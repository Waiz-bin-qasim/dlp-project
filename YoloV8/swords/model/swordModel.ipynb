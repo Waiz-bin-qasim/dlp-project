{
 "cells": [
  {
   "cell_type": "code",
   "execution_count": 2,
   "metadata": {},
   "outputs": [
    {
     "name": "stderr",
     "output_type": "stream",
     "text": [
      "\n",
      "image 1/2 c:\\Users\\92332\\Desktop\\Fyp\\violence\\swords\\model\\test\\test1.jpeg: 640x640 (no detections), 149.7ms\n",
      "image 2/2 c:\\Users\\92332\\Desktop\\Fyp\\violence\\swords\\model\\test\\test2.jpeg: 640x320 1 Sword, 104.1ms\n",
      "Speed: 3.5ms preprocess, 126.9ms inference, 1.0ms postprocess per image at shape (1, 3, 640, 320)\n",
      "Results saved to \u001b[1mruns\\detect\\predict2\u001b[0m\n"
     ]
    }
   ],
   "source": [
    "from ultralytics import YOLO\n",
    "model = YOLO('best.pt')\n",
    "result = model(\"./test/\" , save=True)"
   ]
  }
 ],
 "metadata": {
  "kernelspec": {
   "display_name": "Python 3",
   "language": "python",
   "name": "python3"
  },
  "language_info": {
   "codemirror_mode": {
    "name": "ipython",
    "version": 3
   },
   "file_extension": ".py",
   "mimetype": "text/x-python",
   "name": "python",
   "nbconvert_exporter": "python",
   "pygments_lexer": "ipython3",
   "version": "3.10.5"
  }
 },
 "nbformat": 4,
 "nbformat_minor": 2
}
