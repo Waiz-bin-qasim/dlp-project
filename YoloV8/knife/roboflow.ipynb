{
 "cells": [
  {
   "cell_type": "code",
   "execution_count": null,
   "metadata": {},
   "outputs": [],
   "source": [
    "# !pip install roboflow\n",
    "\n",
    "from roboflow import Roboflow\n",
    "rf = Roboflow(api_key=\"n1HHUV12gq6UcE9Eue27\")\n",
    "project = rf.workspace(\"savitarus\").project(\"knives-other\")\n",
    "dataset = project.version(1).download(\"yolov8\")\n"
   ]
  }
 ],
 "metadata": {
  "language_info": {
   "name": "python"
  }
 },
 "nbformat": 4,
 "nbformat_minor": 2
}
